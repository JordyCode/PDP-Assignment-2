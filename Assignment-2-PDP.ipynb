{
 "cells": [
  {
   "cell_type": "code",
   "execution_count": 1,
   "metadata": {},
   "outputs": [],
   "source": [
    "# Import the necessary libraries to use for this assignment\n",
    "import pandas as pd\n",
    "import csv\n",
    "import time\n",
    "from sklearn.preprocessing import MinMaxScaler\n",
    "from sklearn.model_selection import train_test_split\n",
    "from sklearn.linear_model import LinearRegression\n",
    "from sklearn.metrics import mean_squared_error\n",
    "from sklearn.feature_selection import SelectKBest, f_regression\n",
    "from sklearn.ensemble import RandomForestRegressor\n",
    "from sklearn.pipeline import Pipeline\n",
    "from sklearn.preprocessing import StandardScaler\n",
    "from sklearn.linear_model import Lasso"
   ]
  },
  {
   "cell_type": "code",
   "execution_count": 2,
   "metadata": {},
   "outputs": [],
   "source": [
    "# Load the dataset\n",
    "dfSpotYou = pd.read_csv('Spotify_Youtube.csv', sep=',', on_bad_lines='skip')"
   ]
  },
  {
   "cell_type": "code",
   "execution_count": 3,
   "metadata": {},
   "outputs": [],
   "source": [
    "# Pre-process necessary features:\n",
    "\n",
    "# Drop unnecessary columns\n",
    "dfSpotYou = dfSpotYou.drop(['Artist', 'Album', 'Album_type', 'Uri', 'Title', 'Channel', 'Description', 'Licensed', 'official_video', 'Unnamed: 0', 'Url_spotify', 'Url_youtube'], axis=1)\n",
    "\n",
    "# Drop rows with missing values\n",
    "dfSpotYou = dfSpotYou.dropna()\n",
    "\n",
    "# Apply feature scaling to numerical columns\n",
    "scaler = MinMaxScaler()\n",
    "dfSpotYou[['Danceability', 'Energy', 'Loudness', 'Speechiness', 'Acousticness', 'Instrumentalness',\n",
    "    'Liveness', 'Valence', 'Tempo']] = scaler.fit_transform(dfSpotYou[['Danceability', 'Energy', 'Loudness',\n",
    "                                                                'Speechiness', 'Acousticness',\n",
    "                                                                'Instrumentalness', 'Liveness',\n",
    "                                                                'Valence', 'Tempo']])\n",
    "\n",
    "# Convert categorical columns to numerical using one-hot encoding\n",
    "dfSpotYou = pd.get_dummies(dfSpotYou)"
   ]
  },
  {
   "cell_type": "code",
   "execution_count": 4,
   "metadata": {},
   "outputs": [],
   "source": [
    "# Design two new features\n",
    "dfSpotYou['Popularity_score'] = dfSpotYou['Views'] + dfSpotYou['Likes'] + dfSpotYou['Comments']\n",
    "dfSpotYou['Duration_minutes'] = dfSpotYou['Duration_ms'] / 60000"
   ]
  },
  {
   "cell_type": "code",
   "execution_count": 5,
   "metadata": {},
   "outputs": [
    {
     "name": "stdout",
     "output_type": "stream",
     "text": [
      "Mean Squared Error (MSE): 3.471938667761583e+16\n",
      "Elapsed Time: 0.04188680648803711 seconds\n"
     ]
    }
   ],
   "source": [
    "# Predict number of Spotify streams\n",
    "\n",
    "# Select relevant features and target variable\n",
    "features = ['Danceability', 'Energy', 'Key', 'Loudness', 'Speechiness', 'Acousticness', 'Instrumentalness', 'Liveness', 'Valence', 'Tempo', 'Duration_ms', 'Popularity_score', 'Duration_minutes']\n",
    "target = 'Stream'\n",
    "\n",
    "# Split the dataset into training and testing sets\n",
    "X_train, X_test, y_train, y_test = train_test_split(dfSpotYou[features], dfSpotYou[target], test_size=0.2, random_state=42)\n",
    "\n",
    "# Define the pipeline steps\n",
    "pipeline = Pipeline([\n",
    "    ('scaling', StandardScaler()),  # Data scaling step\n",
    "    ('model', LinearRegression())  # Model training step\n",
    "])\n",
    "\n",
    "# Start the timer\n",
    "start_time = time.time()\n",
    "\n",
    "# Fit the pipeline to the training data\n",
    "pipeline.fit(X_train, y_train)\n",
    "\n",
    "# Make predictions on the testing set\n",
    "y_pred = pipeline.predict(X_test)\n",
    "\n",
    "# Stop the timer and calculate the elapsed time\n",
    "elapsed_time = time.time() - start_time\n",
    "\n",
    "# Evaluate the model using mean squared error (MSE)\n",
    "mse = mean_squared_error(y_test, y_pred)\n",
    "\n",
    "# Print the MSE score and elapsed time\n",
    "print(\"Mean Squared Error (MSE):\", mse)\n",
    "print(\"Elapsed Time:\", elapsed_time, \"seconds\")\n"
   ]
  },
  {
   "cell_type": "code",
   "execution_count": 6,
   "metadata": {},
   "outputs": [
    {
     "name": "stdout",
     "output_type": "stream",
     "text": [
      "Correlation: ['Popularity_score', 'Loudness', 'Acousticness', 'Instrumentalness', 'Danceability', 'Energy', 'Liveness', 'Speechiness', 'Valence', 'Duration_minutes']\n",
      "\n",
      "Univariate Feature Selection: ['Danceability', 'Energy', 'Key', 'Loudness', 'Speechiness', 'Acousticness', 'Instrumentalness', 'Liveness', 'Valence', 'Popularity_score']\n",
      "\n",
      "Coef: ['Danceability', 'Energy', 'Key', 'Loudness', 'Speechiness', 'Acousticness', 'Instrumentalness', 'Liveness', 'Valence', 'Tempo']\n"
     ]
    },
    {
     "name": "stderr",
     "output_type": "stream",
     "text": [
      "C:\\Users\\Jordy Beentjes\\anaconda3\\lib\\site-packages\\sklearn\\linear_model\\_coordinate_descent.py:631: ConvergenceWarning: Objective did not converge. You might want to increase the number of iterations, check the scale of the features or consider increasing regularisation. Duality gap: 3.019e+20, tolerance: 9.683e+16\n",
      "  model = cd_fast.enet_coordinate_descent(\n"
     ]
    }
   ],
   "source": [
    "# Find top 10 predictive features according to 3 different methods\n",
    "\n",
    "# Calculate feature-target correlations\n",
    "correlations = dfSpotYou[features + [target]].corr()\n",
    "\n",
    "# Sort features by their correlation with the target variable\n",
    "top_features_cor = correlations[target].abs().sort_values(ascending=False).index.tolist()[1:11]\n",
    "\n",
    "print('Correlation:', top_features_cor)\n",
    "\n",
    "# Perform univariate feature selection\n",
    "selector = SelectKBest(f_regression, k=10)\n",
    "selector.fit(X_train, y_train)\n",
    "\n",
    "# Get the selected features\n",
    "top_features_univariate = [features[i] for i in selector.get_support(indices=True)]\n",
    "\n",
    "print('\\nUnivariate Feature Selection:', top_features_univariate)\n",
    "\n",
    "lasso = Lasso(alpha=0.1)\n",
    "lasso.fit(X_train, y_train)\n",
    "top_features_lasso = [features[i] for i, coef in enumerate(lasso.coef_) if coef != 0][:10]\n",
    "\n",
    "print('\\nCoef:', top_features_lasso)"
   ]
  },
  {
   "cell_type": "code",
   "execution_count": 7,
   "metadata": {},
   "outputs": [
    {
     "name": "stdout",
     "output_type": "stream",
     "text": [
      "Mean Squared Error: 3.471938667761583e+16\n",
      "R-squared: 0.3775322948825087\n"
     ]
    }
   ],
   "source": [
    "# Report score/accuracy in at least 2 different formats\n",
    "mse = mean_squared_error(y_test, y_pred)\n",
    "print(f\"Mean Squared Error: {mse}\")\n",
    "\n",
    "# Example 2: Reporting R-squared (coefficient of determination)\n",
    "r2 = pipeline.score(X_test, y_test)\n",
    "print(f\"R-squared: {r2}\")"
   ]
  },
  {
   "cell_type": "code",
   "execution_count": null,
   "metadata": {},
   "outputs": [],
   "source": []
  }
 ],
 "metadata": {
  "kernelspec": {
   "display_name": "Python 3 (ipykernel)",
   "language": "python",
   "name": "python3"
  },
  "language_info": {
   "codemirror_mode": {
    "name": "ipython",
    "version": 3
   },
   "file_extension": ".py",
   "mimetype": "text/x-python",
   "name": "python",
   "nbconvert_exporter": "python",
   "pygments_lexer": "ipython3",
   "version": "3.9.16"
  }
 },
 "nbformat": 4,
 "nbformat_minor": 2
}
